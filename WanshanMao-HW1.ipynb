{
 "cells": [
  {
   "cell_type": "markdown",
   "metadata": {},
   "source": [
    "## Q1 energy needed to heat water"
   ]
  },
  {
   "cell_type": "code",
   "execution_count": 3,
   "metadata": {},
   "outputs": [
    {
     "name": "stdout",
     "output_type": "stream",
     "text": [
      "enter the weight of water being heat in kg: 3.2\n",
      "enter the initial temperature of water in degrees Celsius: 13.5\n",
      "enter the final temperature of water in degrees Celsius: 34\n",
      "energy needed to heat 3.2 kg of water from 13.5 C to 34.0 C needs 274470.4 joules\n"
     ]
    }
   ],
   "source": [
    "#calculate how much energy needed to heat a certain amount of water to certain temperature\n",
    "\n",
    "given_inputs = 4184\n",
    "weight = float(input(\"enter the weight of water being heat in kg: \"))\n",
    "initial_temperature = float(input(\"enter the initial temperature of water in degrees Celsius: \"))\n",
    "final_temperature = float(input(\"enter the final temperature of water in degrees Celsius: \"))\n",
    "\n",
    "energy = weight * (final_temperature - initial_temperature) * given_inputs\n",
    "print(\"energy needed to heat\",weight,\"kg of water from\",\n",
    "      initial_temperature,\"C to\",final_temperature,\"C needs\",energy,\"joules\")"
   ]
  },
  {
   "cell_type": "markdown",
   "metadata": {},
   "source": [
    "## Q2  a person's BMI"
   ]
  },
  {
   "cell_type": "code",
   "execution_count": 11,
   "metadata": {},
   "outputs": [
    {
     "name": "stdout",
     "output_type": "stream",
     "text": [
      "enter your height in inches: 66.75\n",
      "enter your weight in pounds: 173\n",
      "your height =  66.75 your weight =  173.0 the corresponding BMI =  27.3\n",
      "AMA recommends that BMI be no more than 25\n"
     ]
    }
   ],
   "source": [
    "#calculate a person's BMI with weight and height\n",
    "\n",
    "given_inputs = 703\n",
    "height = float(input(\"enter your height in inches: \"))\n",
    "weight = float(input(\"enter your weight in pounds: \"))\n",
    "\n",
    "BMI = given_inputs * (weight / (height * height))\n",
    "print(\"your height = \",height,\"your weight = \", weight, \"the corresponding BMI = \",round(BMI,2))\n",
    "\n",
    "if BMI <= 25:\n",
    "    print(\"congratulation\")\n",
    "else:\n",
    "    print(\"AMA recommends that BMI be no more than 25\")"
   ]
  },
  {
   "cell_type": "markdown",
   "metadata": {},
   "source": [
    "## Q3 total cost of purchasing a clothing"
   ]
  },
  {
   "cell_type": "code",
   "execution_count": 1,
   "metadata": {},
   "outputs": [
    {
     "name": "stdout",
     "output_type": "stream",
     "text": [
      "enter the clothing price you want to purchase: 46.50\n",
      "total cost is: 50.06\n"
     ]
    }
   ],
   "source": [
    "#calculate the total cost of a item with different sales tax rate \n",
    "\n",
    "lower_sales_tax = 0.017\n",
    "higher_sales_tax = 0.0765\n",
    "item_price = float(input(\"enter the clothing price you want to purchase: \"))\n",
    "\n",
    "if item_price <15:\n",
    "    total_cost = item_price + item_price * lower_sales_tax\n",
    "else:\n",
    "    total_cost = item_price + item_price * higher_sales_tax\n",
    "print(\"total cost is:\",round(total_cost,2))"
   ]
  },
  {
   "cell_type": "markdown",
   "metadata": {},
   "source": [
    "## Q4 income tax table\n",
    "### calculate the income tax for any given taxable income"
   ]
  },
  {
   "cell_type": "code",
   "execution_count": 8,
   "metadata": {},
   "outputs": [
    {
     "name": "stdout",
     "output_type": "stream",
     "text": [
      "enter your taxable income: 268600\n",
      "your taxable income is $ 268600.0 , your income tax is $ 52623.0\n"
     ]
    }
   ],
   "source": [
    "lower_limit1 = 1975\n",
    "lower_limit2 = 9235\n",
    "lower_limit3 = 29211\n",
    "lower_limit4 = 66543\n",
    "lower_limit5 = 94735\n",
    "lower_limit6 = 167307.5\n",
    "\n",
    "income_limit1 = 19750\n",
    "income_limit2 = 80250\n",
    "income_limit3 = 171050\n",
    "income_limit4 = 326600\n",
    "income_limit5 = 414700\n",
    "income_limit6 = 622050\n",
    "\n",
    "tax_rate0 = 0.10\n",
    "tax_rate1 = 0.12\n",
    "tax_rate2 = 0.22\n",
    "tax_rate3 = 0.24\n",
    "tax_rate4 = 0.32\n",
    "tax_rate5 = 0.35\n",
    "tax_rate6 = 0.37\n",
    "taxable_income = float(input(\"enter your taxable income: \"))\n",
    "\n",
    "#tax in (0,19770) with 0.1 tax rate\n",
    "if 0 <= taxable_income <= 19750:\n",
    "    income_tax = taxable_income * tax_rate0\n",
    "    \n",
    "#tax in (19750,80250) with 0.12 tax rate\n",
    "elif 19750 < taxable_income <= 80250:\n",
    "    income_tax = lower_limit1 + ((taxable_income - income_limit1) * tax_rate1)\n",
    "    \n",
    "#tax in (80250,171050) with 0.22 tax rate\n",
    "elif 80250 < taxable_income <= 171050:\n",
    "    income_tax = lower_limit2 + ((taxable_income - income_limit2) * tax_rate2)\n",
    "\n",
    "#tax in (171050,326600) with 0.24 tax rate\n",
    "elif 171050 < taxable_income <= 326600:\n",
    "    income_tax = lower_limit3 + ((taxable_income - income_limit3) * tax_rate3)\n",
    "\n",
    "#tax in (326600,414700) with 0.32 tax rate\n",
    "elif 326600 < taxable_income <= 414700:\n",
    "    income_tax = lower_limit4 + ((taxable_income - income_limit4) * tax_rate4)\n",
    "\n",
    "#tax in (414700,622050) with 0.35 tax rate\n",
    "elif 414700 < taxable_income <= 622050:\n",
    "    income_tax = lower_limit5 + ((taxable_income - income_limit5) * tax_rate5)\n",
    "\n",
    "#tax when income > 622050 with 0.37 tax rate\n",
    "else:\n",
    "    income_tax = lower_limit6 + ((taxable_income - income_limit6) * tax_rate6)\n",
    "\n",
    "print(\"your taxable income is $\",taxable_income,\", your income tax is $\",income_tax)"
   ]
  },
  {
   "cell_type": "code",
   "execution_count": null,
   "metadata": {},
   "outputs": [],
   "source": []
  }
 ],
 "metadata": {
  "kernelspec": {
   "display_name": "Python 3",
   "language": "python",
   "name": "python3"
  },
  "language_info": {
   "codemirror_mode": {
    "name": "ipython",
    "version": 3
   },
   "file_extension": ".py",
   "mimetype": "text/x-python",
   "name": "python",
   "nbconvert_exporter": "python",
   "pygments_lexer": "ipython3",
   "version": "3.8.3"
  }
 },
 "nbformat": 4,
 "nbformat_minor": 4
}
